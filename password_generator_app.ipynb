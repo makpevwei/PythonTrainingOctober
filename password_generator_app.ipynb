{
 "cells": [
  {
   "cell_type": "code",
   "execution_count": 25,
   "metadata": {},
   "outputs": [
    {
     "data": {
      "text/plain": [
       "'Z5+C+0i)2'"
      ]
     },
     "execution_count": 25,
     "metadata": {},
     "output_type": "execute_result"
    }
   ],
   "source": [
    "import random\n",
    "\n",
    "# Define lists of characters to be used in the password generation\n",
    "\n",
    "LETTERS = ['a', 'b', 'c', 'd', 'e', 'f', 'g', 'h', 'i', 'j', 'k', 'l', 'm', 'n', 'o', 'p', 'q', 'r',\n",
    "           's', 't', 'u', 'v', 'w', 'x', 'y', 'z',\n",
    "           \"A\", \"B\", \"C\", \"D\", \"E\", \"F\", \"G\", \"H\", \"I\", \"J\", \"K\", \"L\", \"M\", \"N\", \"O\", \"P\", \"Q\", \"R\",\n",
    "           \"S\", \"T\", \"U\", \"V\", \"W\", \"X\", \"Y\", \"Z\"]\n",
    "NUMBERS = ['0', '1', '2', '3', '4', '5', '6', '7', '8', '9']\n",
    "SYMBOLS = ['!', '@', '#', '$', '%', '^', '&',\"( \", \")\", \"*\", \"+\", \"?\", \"/\"]\n",
    "\n",
    "def generate_password():\n",
    "    \"\"\"\n",
    "    Generate a random password of letters, numbers, and symbols\n",
    "    \"\"\"\n",
    "    password_list = []\n",
    "    n_letters = int(input(\"How many letters would you like in your password? \"))\n",
    "    n_numbers = int(input(\"How many numbers would you like in your password? \"))\n",
    "    n_symbols = int(input(\"How many symbols would you like in your password? \"))\n",
    "    \n",
    "    for i in range(n_letters):\n",
    "        password_list.append(random.choice(LETTERS))\n",
    "        \n",
    "    for i in range(n_numbers):\n",
    "        password_list.append(random.choice(NUMBERS))\n",
    "        \n",
    "    for i in range(n_symbols):\n",
    "        password_list.append(random.choice(SYMBOLS))\n",
    "        \n",
    "    random.shuffle(password_list)\n",
    "    \n",
    "    password = \"\".join(password_list)\n",
    "        \n",
    "    return password\n",
    "  \n",
    "\n",
    "generate_password()"
   ]
  },
  {
   "cell_type": "code",
   "execution_count": null,
   "metadata": {},
   "outputs": [],
   "source": []
  }
 ],
 "metadata": {
  "kernelspec": {
   "display_name": "Python 3",
   "language": "python",
   "name": "python3"
  },
  "language_info": {
   "codemirror_mode": {
    "name": "ipython",
    "version": 3
   },
   "file_extension": ".py",
   "mimetype": "text/x-python",
   "name": "python",
   "nbconvert_exporter": "python",
   "pygments_lexer": "ipython3",
   "version": "3.12.2"
  }
 },
 "nbformat": 4,
 "nbformat_minor": 2
}
