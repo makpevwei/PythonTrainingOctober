{
 "cells": [
  {
   "cell_type": "code",
   "execution_count": 1,
   "metadata": {},
   "outputs": [
    {
     "data": {
      "text/plain": [
       "3.141592653589793"
      ]
     },
     "execution_count": 1,
     "metadata": {},
     "output_type": "execute_result"
    }
   ],
   "source": [
    "# Modules\n",
    "# Module is a file that contains a set of related functions, classes and variables. \n",
    "# It is a way to organize your code into logical units.\n",
    "# For example, by defining a function called add, and save the file as arithmetic.py. We have created\n",
    "# a module called arithmetic.\n",
    "\n",
    "import math\n",
    "\n",
    "math.pi"
   ]
  },
  {
   "cell_type": "code",
   "execution_count": 2,
   "metadata": {},
   "outputs": [
    {
     "data": {
      "text/plain": [
       "['__doc__',\n",
       " '__file__',\n",
       " '__loader__',\n",
       " '__name__',\n",
       " '__package__',\n",
       " '__spec__',\n",
       " 'acos',\n",
       " 'acosh',\n",
       " 'asin',\n",
       " 'asinh',\n",
       " 'atan',\n",
       " 'atan2',\n",
       " 'atanh',\n",
       " 'cbrt',\n",
       " 'ceil',\n",
       " 'comb',\n",
       " 'copysign',\n",
       " 'cos',\n",
       " 'cosh',\n",
       " 'degrees',\n",
       " 'dist',\n",
       " 'e',\n",
       " 'erf',\n",
       " 'erfc',\n",
       " 'exp',\n",
       " 'exp2',\n",
       " 'expm1',\n",
       " 'fabs',\n",
       " 'factorial',\n",
       " 'floor',\n",
       " 'fmod',\n",
       " 'frexp',\n",
       " 'fsum',\n",
       " 'gamma',\n",
       " 'gcd',\n",
       " 'hypot',\n",
       " 'inf',\n",
       " 'isclose',\n",
       " 'isfinite',\n",
       " 'isinf',\n",
       " 'isnan',\n",
       " 'isqrt',\n",
       " 'lcm',\n",
       " 'ldexp',\n",
       " 'lgamma',\n",
       " 'log',\n",
       " 'log10',\n",
       " 'log1p',\n",
       " 'log2',\n",
       " 'modf',\n",
       " 'nan',\n",
       " 'nextafter',\n",
       " 'perm',\n",
       " 'pi',\n",
       " 'pow',\n",
       " 'prod',\n",
       " 'radians',\n",
       " 'remainder',\n",
       " 'sin',\n",
       " 'sinh',\n",
       " 'sqrt',\n",
       " 'sumprod',\n",
       " 'tan',\n",
       " 'tanh',\n",
       " 'tau',\n",
       " 'trunc',\n",
       " 'ulp']"
      ]
     },
     "execution_count": 2,
     "metadata": {},
     "output_type": "execute_result"
    }
   ],
   "source": [
    "dir(math)"
   ]
  },
  {
   "cell_type": "code",
   "execution_count": 3,
   "metadata": {},
   "outputs": [],
   "source": [
    "# Object Oriented Programming (OOP) is methodolgy to design a program using classes and objects.\n",
    "# The concept of OOP in Python focuses on creating reusable code. \n",
    "# This concept is also known as DRY (Don't Repeat Yourself).\n",
    "# Every individual objet represents a different part of the application having its own logic.\n",
    "# An object could represent a student  with a id, name and age as attributes or a car with a name, model and color as attributes."
   ]
  },
  {
   "cell_type": "code",
   "execution_count": 11,
   "metadata": {},
   "outputs": [],
   "source": [
    "# A Class usually contains attributes and methods. \n",
    "# A method is function that goes inside a class.\n",
    "# All methods would start with parameter self.\n",
    "# The convention is to use a uppercase letter to start the class and \n",
    "# lowercase letter to start the method.\n",
    "# We use pascal case to name the class and camel case to name the method. \n",
    "# e.g GradeCalculator or Grade\n",
    "# A class is defined under a \"class\" keyword."
   ]
  },
  {
   "cell_type": "code",
   "execution_count": 12,
   "metadata": {},
   "outputs": [],
   "source": [
    "# A class is a blueprint or templates for creating objects.\n",
    "# A pass statement is a placeholder when a statement is required syntactically but no execution of code is necessary."
   ]
  },
  {
   "cell_type": "code",
   "execution_count": 17,
   "metadata": {},
   "outputs": [],
   "source": [
    "class Student:\n",
    "    pass"
   ]
  },
  {
   "cell_type": "code",
   "execution_count": 24,
   "metadata": {},
   "outputs": [],
   "source": [
    "class Student:\n",
    "    id = 0\n",
    "    name = \"\"\n",
    "    gender = \"\"\n",
    "\n",
    "mike = Student() # Instantiation of the class Student\n",
    "mike.id = 101\n",
    "mike.name = \"Mike\"\n",
    "mike.gender = \"Male\""
   ]
  },
  {
   "cell_type": "code",
   "execution_count": 25,
   "metadata": {},
   "outputs": [],
   "source": [
    "# The init method is a special method that is called when an object is created.\n",
    "# The init method will be called whenever we write student1 = Student()\n",
    "# or whenever we create an object or instance of the class.\n",
    "# The init method is also called a constructor.\n",
    "# The init method is used to initialize the attributes of the class.\n",
    "# The init method is used to set the initial state of the class.\n",
    "# We pass any arguments we put such as student1 = Student(101, \"Mike\",\"Male\") to the init method."
   ]
  },
  {
   "cell_type": "code",
   "execution_count": 33,
   "metadata": {},
   "outputs": [
    {
     "name": "stdout",
     "output_type": "stream",
     "text": [
      "Male\n",
      "Female\n"
     ]
    }
   ],
   "source": [
    "class Student():\n",
    "    def __init__(self, id, name, gender):\n",
    "        self.id = id\n",
    "        self.name = name\n",
    "        self.gender = gender\n",
    "        \n",
    "\n",
    "student1 = Student(101, \"Mike\", \"Male\") # Instantiation of the class Student\n",
    "student2 = Student(102, \"Mary\", \"Female\") # Instantiation of the class Student\n",
    "print(student1.gender)\n",
    "print(student2.gender)"
   ]
  },
  {
   "cell_type": "code",
   "execution_count": 35,
   "metadata": {},
   "outputs": [
    {
     "name": "stdout",
     "output_type": "stream",
     "text": [
      "Male\n",
      "Female\n",
      "Mike\n",
      "Mary\n",
      "\n",
      "Male\n",
      "Female\n",
      "Mike\n",
      "Sarah\n"
     ]
    }
   ],
   "source": [
    "# Modifying object properties\n",
    "class Student():\n",
    "    def __init__(self, id, name, gender):\n",
    "        self.id = id\n",
    "        self.name = name\n",
    "        self.gender = gender\n",
    "        \n",
    "\n",
    "student1 = Student(101, \"Mike\", \"Male\") # Instantiation of the class Student\n",
    "student2 = Student(102, \"Mary\", \"Female\") # Instantiation of the class Student\n",
    "print(student1.gender)\n",
    "print(student2.gender)\n",
    "print(student1.name)\n",
    "print(student2.name)\n",
    "student2.name = \"Sarah\"\n",
    "print()\n",
    "print(student1.gender)\n",
    "print(student2.gender)\n",
    "print(student1.name)\n",
    "print(student2.name)"
   ]
  },
  {
   "cell_type": "code",
   "execution_count": 39,
   "metadata": {},
   "outputs": [
    {
     "name": "stdout",
     "output_type": "stream",
     "text": [
      "Male\n"
     ]
    },
    {
     "ename": "AttributeError",
     "evalue": "'Student' object has no attribute 'gender'",
     "output_type": "error",
     "traceback": [
      "\u001b[0;31m---------------------------------------------------------------------------\u001b[0m",
      "\u001b[0;31mAttributeError\u001b[0m                            Traceback (most recent call last)",
      "Cell \u001b[0;32mIn[39], line 14\u001b[0m\n\u001b[1;32m     12\u001b[0m \u001b[38;5;28;01mdel\u001b[39;00m student2\u001b[38;5;241m.\u001b[39mgender\n\u001b[1;32m     13\u001b[0m \u001b[38;5;28mprint\u001b[39m(student1\u001b[38;5;241m.\u001b[39mgender)\n\u001b[0;32m---> 14\u001b[0m \u001b[38;5;28mprint\u001b[39m(student2\u001b[38;5;241m.\u001b[39mgender)\n\u001b[1;32m     15\u001b[0m \u001b[38;5;28mprint\u001b[39m(student1\u001b[38;5;241m.\u001b[39mname)\n\u001b[1;32m     16\u001b[0m \u001b[38;5;28mprint\u001b[39m(student2\u001b[38;5;241m.\u001b[39mname)\n",
      "\u001b[0;31mAttributeError\u001b[0m: 'Student' object has no attribute 'gender'"
     ]
    }
   ],
   "source": [
    "# Deleting object properties\n",
    "class Student():\n",
    "    def __init__(self, id, name, gender):\n",
    "        self.id = id\n",
    "        self.name = name\n",
    "        self.gender = gender\n",
    "        \n",
    "\n",
    "student1 = Student(101, \"Mike\", \"Male\") # Instantiation of the class Student\n",
    "student2 = Student(102, \"Mary\", \"Female\") # Instantiation of the class Student\n",
    "\n",
    "del student2.gender\n",
    "print(student1.gender)\n",
    "print(student2.gender)\n",
    "print(student1.name)\n",
    "print(student2.name)\n",
    "student2.name = \"Sarah\"\n",
    "print()\n",
    "print(student1.gender)\n",
    "print(student2.gender)\n",
    "print(student1.name)\n",
    "print(student2.name)"
   ]
  },
  {
   "cell_type": "code",
   "execution_count": 40,
   "metadata": {},
   "outputs": [],
   "source": [
    "# Python OOP Concepts\n",
    "# Inheritance\n",
    "# Polymorphism\n",
    "# Encapsulation\n",
    "# Abstraction"
   ]
  },
  {
   "cell_type": "code",
   "execution_count": 41,
   "metadata": {},
   "outputs": [],
   "source": [
    "# Inheritance is a mechanism for a new class to use the pattributes and methods of an existing class.\n",
    "# The new class is called the subclass, derived or child class, and the existing class is called the superclass or parent class.\n",
    "# Inheritance is used to create a new class that is a modified version of an existing class.\n",
    "# The main purpose of inheritance is to avoid redundancy or stop repeated code."
   ]
  },
  {
   "cell_type": "code",
   "execution_count": 42,
   "metadata": {},
   "outputs": [],
   "source": [
    "# There are four types of inheritance:\n",
    "# 1. Single Inheritance\n",
    "# 2. Multiple Inheritance\n",
    "# 3. Multilevel Inheritance\n",
    "# 4. Hierarchical Inheritance"
   ]
  },
  {
   "cell_type": "code",
   "execution_count": 44,
   "metadata": {},
   "outputs": [],
   "source": [
    "# Single inheritance enables a child class to inherit properties from a single\n",
    "# parent class thus enabling reusability of code and addition of new features\n",
    "# to the exiting code."
   ]
  },
  {
   "cell_type": "code",
   "execution_count": 45,
   "metadata": {},
   "outputs": [],
   "source": [
    "# Multiple inheritance is when a class can be derived from more than one parent class.\n",
    "# In multiple inheritance, all the features of the base or parent class is inherited\n",
    "# by the child class.\n",
    "# We explicitly  call the superclass by name instead of using the super() function."
   ]
  },
  {
   "cell_type": "code",
   "execution_count": 1,
   "metadata": {},
   "outputs": [],
   "source": [
    "# Multilevel inheritance is when a class is derived from a class which is also derived from another class. \n",
    "# This is similar to a relationship between grandparent, parent and child."
   ]
  },
  {
   "cell_type": "code",
   "execution_count": 2,
   "metadata": {},
   "outputs": [],
   "source": [
    "# Hierarchical inheritance is when more than one class is derived from a single class."
   ]
  },
  {
   "cell_type": "code",
   "execution_count": 3,
   "metadata": {},
   "outputs": [],
   "source": [
    "# Polymorphism  means many forms. and in programming it refers to methods or functions\n",
    "# or operators with the same name that can be executed on many objects or classes.\n"
   ]
  },
  {
   "cell_type": "code",
   "execution_count": 5,
   "metadata": {},
   "outputs": [
    {
     "name": "stdout",
     "output_type": "stream",
     "text": [
      "There are many types of birds.\n",
      "Most of the birds can fly but some cannot.\n",
      "\n",
      "There are many types of birds.\n",
      "Sparrows can fly.\n",
      "\n",
      "There are many types of birds.\n",
      "Ostriches cannot fly.\n"
     ]
    }
   ],
   "source": [
    "class Bird:\n",
    "    def intro(self):\n",
    "        print(\"There are many types of birds.\")\n",
    "        \n",
    "    def flight(self):\n",
    "        print(\"Most of the birds can fly but some cannot.\")\n",
    "        \n",
    "class Sparrow(Bird):\n",
    "    def flight(self):\n",
    "        print(\"Sparrows can fly.\")\n",
    "        \n",
    "class Ostrich(Bird):\n",
    "    def flight(self):\n",
    "        print(\"Ostriches cannot fly.\")\n",
    "        \n",
    "obj_bird = Bird()\n",
    "obj_sparrow = Sparrow()\n",
    "obj_ostrich = Ostrich()\n",
    "\n",
    "obj_bird.intro()\n",
    "obj_bird.flight()\n",
    "print()\n",
    "obj_sparrow.intro()\n",
    "obj_sparrow.flight()\n",
    "print()\n",
    "obj_ostrich.intro()\n",
    "obj_ostrich.flight()"
   ]
  },
  {
   "cell_type": "code",
   "execution_count": 6,
   "metadata": {},
   "outputs": [],
   "source": [
    "# Abstraction is a programming methodology in which details of the programming\n",
    "# are hidden and only the necessary details are shown to the user."
   ]
  },
  {
   "cell_type": "code",
   "execution_count": 8,
   "metadata": {},
   "outputs": [
    {
     "ename": "TypeError",
     "evalue": "Can't instantiate abstract class Demo without an implementation for abstract method 'method1'",
     "output_type": "error",
     "traceback": [
      "\u001b[0;31m---------------------------------------------------------------------------\u001b[0m",
      "\u001b[0;31mTypeError\u001b[0m                                 Traceback (most recent call last)",
      "Cell \u001b[0;32mIn[8], line 9\u001b[0m\n\u001b[1;32m      6\u001b[0m     \u001b[38;5;28;01mdef\u001b[39;00m \u001b[38;5;21mmethod2\u001b[39m(\u001b[38;5;28mself\u001b[39m):\n\u001b[1;32m      7\u001b[0m         \u001b[38;5;28mprint\u001b[39m(\u001b[38;5;124m\"\u001b[39m\u001b[38;5;124mconcrete method\u001b[39m\u001b[38;5;124m\"\u001b[39m)\n\u001b[0;32m----> 9\u001b[0m obj \u001b[38;5;241m=\u001b[39m Demo()\n",
      "\u001b[0;31mTypeError\u001b[0m: Can't instantiate abstract class Demo without an implementation for abstract method 'method1'"
     ]
    }
   ],
   "source": [
    "from abc import ABC, abstractmethod\n",
    "class Demo(ABC):\n",
    "    @abstractmethod\n",
    "    def method1(self):\n",
    "        print(\"abstract method\")\n",
    "    def method2(self):\n",
    "        print(\"concrete method\")\n",
    "        \n",
    "obj = Demo()"
   ]
  },
  {
   "cell_type": "code",
   "execution_count": 9,
   "metadata": {},
   "outputs": [
    {
     "name": "stdout",
     "output_type": "stream",
     "text": [
      "abstract method\n",
      "concrete method\n"
     ]
    }
   ],
   "source": [
    "from abc import ABC, abstractmethod\n",
    "class DemoClass(ABC):\n",
    "    @abstractmethod\n",
    "    def method1(self):\n",
    "        print(\"abstract method\")\n",
    "    def method2(self):\n",
    "        print(\"concrete method\")\n",
    "        \n",
    "class ConcreteClass(DemoClass):\n",
    "    def method1(self):\n",
    "        super().method1()\n",
    "        \n",
    "obj = ConcreteClass()\n",
    "obj.method1()\n",
    "obj.method2()"
   ]
  },
  {
   "cell_type": "code",
   "execution_count": 10,
   "metadata": {},
   "outputs": [],
   "source": [
    "# Encapsulation is a programming methodology in which the data is hidden from the user.\n",
    "# The feature of preventing data from direct access is called encapsulation.\n",
    "# A class member is said to be public if it can be accessed from anywhere in the program.\n",
    "# Private members are only accessible within the class.\n",
    "# Usually methods are defined as public and variables are private."
   ]
  },
  {
   "cell_type": "code",
   "execution_count": 11,
   "metadata": {},
   "outputs": [
    {
     "name": "stdout",
     "output_type": "stream",
     "text": [
      "Name: Mike Grades: 100\n",
      "Name: Mary Grades: 90\n"
     ]
    }
   ],
   "source": [
    "class Student:\n",
    "    def __init__(self, name=\"Mike\", grade=100):\n",
    "        self.name = name\n",
    "        self.grade = grade\n",
    "        \n",
    "s1 = Student()\n",
    "s2 = Student(\"Mary\", 90)\n",
    "\n",
    "print(f\"Name: {s1.name} Grades: {s1.grade}\")\n",
    "print(f\"Name: {s2.name} Grades: {s2.grade}\")"
   ]
  },
  {
   "cell_type": "code",
   "execution_count": 16,
   "metadata": {},
   "outputs": [
    {
     "name": "stdout",
     "output_type": "stream",
     "text": [
      "Name: Mike Grade: 100 Age: 30\n"
     ]
    }
   ],
   "source": [
    "class Student:\n",
    "    def __init__(self, name=\"Mike\", grade=100, age=30):\n",
    "        self.name = name\n",
    "        self.grade = grade\n",
    "        self.__age = age\n",
    "        \n",
    "    def studentdata(self):\n",
    "        print(f\"Name: {self.name} Grade: {self.grade} Age: {self.__age}\")\n",
    "        \n",
    "s1 = Student()\n",
    "s2 = Student(\"Mary\", 90)\n",
    "\n",
    "s1.studentdata()"
   ]
  },
  {
   "cell_type": "code",
   "execution_count": 18,
   "metadata": {},
   "outputs": [],
   "source": [
    "# Repr and Str methods\n",
    "# Output of the __repr__() is in quotes whereas that of __str__() is not.\n",
    "# The __str__() method is called when we use the print() function.\n",
    "# The __repr__() method is called when we use the repr() function."
   ]
  },
  {
   "cell_type": "code",
   "execution_count": 19,
   "metadata": {},
   "outputs": [
    {
     "name": "stdout",
     "output_type": "stream",
     "text": [
      "Mike\n"
     ]
    }
   ],
   "source": [
    "print(\"Mike\")"
   ]
  },
  {
   "cell_type": "code",
   "execution_count": 20,
   "metadata": {},
   "outputs": [
    {
     "name": "stdout",
     "output_type": "stream",
     "text": [
      "'Hello World'\n",
      "Hello World\n"
     ]
    }
   ],
   "source": [
    "x = \"Hello World\"\n",
    "print(x.__repr__())\n",
    "print(x.__str__())"
   ]
  },
  {
   "cell_type": "code",
   "execution_count": 25,
   "metadata": {},
   "outputs": [
    {
     "name": "stdout",
     "output_type": "stream",
     "text": [
      "{'Name': 'Mike', 'Age': 30}\n",
      "Name : Mike Age: 30\n"
     ]
    }
   ],
   "source": [
    "class MyClass:\n",
    "    def __init__(self, name, age):\n",
    "        self.name = name\n",
    "        self.age = age\n",
    "        \n",
    "    def __repr__(self):\n",
    "        return {\"Name\": self.name, \"Age\": self.age}\n",
    "    \n",
    "    def __str__(self):\n",
    "        return \"Name : {} Age: {}\".format(self.name, self.age)\n",
    "    \n",
    "obj = MyClass(\"Mike\", 30)\n",
    "print(obj.__repr__())\n",
    "print(obj.__str__())"
   ]
  },
  {
   "cell_type": "code",
   "execution_count": 27,
   "metadata": {},
   "outputs": [],
   "source": [
    "# There are three types of methods in Python:\n",
    "# Instance methods, static methods and class methods."
   ]
  },
  {
   "cell_type": "code",
   "execution_count": 28,
   "metadata": {},
   "outputs": [],
   "source": [
    "# Instance methods are the most common and the defualt type of method in Python.\n",
    "# They are used to access the instance variables of the class.\n",
    "# They look like normal functions, live inside a class and require a \n",
    "# special parameter called self."
   ]
  },
  {
   "cell_type": "code",
   "execution_count": 34,
   "metadata": {},
   "outputs": [
    {
     "data": {
      "text/plain": [
       "75.0"
      ]
     },
     "execution_count": 34,
     "metadata": {},
     "output_type": "execute_result"
    }
   ],
   "source": [
    "class Student:\n",
    "    def __init__(self, name, grades):\n",
    "        self.name = name\n",
    "        self.grades = grades\n",
    "        \n",
    "    def get_average(self):\n",
    "        return sum(self.grades) / len(self.grades)\n",
    "    \n",
    "s1 = Student(\"Mike\", [90, 80, 70, 60])\n",
    "s1.get_average()"
   ]
  },
  {
   "cell_type": "code",
   "execution_count": 35,
   "metadata": {},
   "outputs": [],
   "source": [
    "# Static methods are methods that are not bound to an object but to the class.\n",
    "# Static methods are regular functiosn that live inside the class in order\n",
    "# to indicate a certain level of relation to it."
   ]
  },
  {
   "cell_type": "code",
   "execution_count": 40,
   "metadata": {},
   "outputs": [
    {
     "data": {
      "text/plain": [
       "'3 8 8 e 4 a 9 8'"
      ]
     },
     "execution_count": 40,
     "metadata": {},
     "output_type": "execute_result"
    }
   ],
   "source": [
    "import random\n",
    "\n",
    "class User:\n",
    "    def __init__(self, username):\n",
    "        self.username = username\n",
    "    \n",
    "    @staticmethod\n",
    "    def generate_password():\n",
    "        return \" \".join(random.choices(\"abcdef123456789\", k=8))\n",
    "    \n",
    "user = User(\"Mike\")\n",
    "user.generate_password()\n",
    "    \n",
    "    "
   ]
  },
  {
   "cell_type": "code",
   "execution_count": 41,
   "metadata": {},
   "outputs": [],
   "source": [
    "# Class methods are methods that are bound to the class and not the object.\n",
    "# It belongs to the class level and all class instances share a class method.\n",
    "# It cans access only the class variables.\n",
    "# It can modify the class state by changing the value of a\n",
    "# class variale that would apply across al the class objects."
   ]
  },
  {
   "cell_type": "code",
   "execution_count": 45,
   "metadata": {},
   "outputs": [
    {
     "name": "stdout",
     "output_type": "stream",
     "text": [
      "Name: Mike Age: 30 School: ABC School\n",
      "Name: Mike Age: 30 School: XYZ School\n",
      "Name: Mike Age: 30 School: PQR School\n"
     ]
    }
   ],
   "source": [
    "class Student:\n",
    "    school_name = \"ABC School\" # Class variable\n",
    "    \n",
    "    def __init__(self, name, age):\n",
    "        self.name = name\n",
    "        self.age = age\n",
    "        \n",
    "    @classmethod\n",
    "    def change_school_name(cls, name):\n",
    "        cls.school_name = name\n",
    "        \n",
    "    def show(self):\n",
    "        print(f\"Name: {self.name} Age: {self.age} School: {self.school_name}\")\n",
    "        \n",
    "        \n",
    "mike = Student(\"Mike\", 30)\n",
    "mike.show()\n",
    "\n",
    "mike.change_school_name(\"XYZ School\")\n",
    "mike.show()\n",
    "\n",
    "Student.change_school_name(\"PQR School\")\n",
    "mike.show()"
   ]
  },
  {
   "cell_type": "code",
   "execution_count": 48,
   "metadata": {},
   "outputs": [
    {
     "name": "stdout",
     "output_type": "stream",
     "text": [
      "Name: Mike Age: 30 School: ABC School\n",
      "Name: Mike Age: 30 School: XYZ School\n",
      "Name: Mike Age: 30 School: PQR School\n"
     ]
    }
   ],
   "source": [
    "class Student:\n",
    "    school_name = \"ABC School\" # Class variable\n",
    "    \n",
    "    def __init__(self, name, age):\n",
    "        self.name = name\n",
    "        self.age = age\n",
    "        \n",
    "    def change_school_name(self, school_name):\n",
    "        self.school_name = school_name\n",
    "        \n",
    "    def show(self):\n",
    "        print(f\"Name: {self.name} Age: {self.age} School: {self.school_name}\")\n",
    "        \n",
    "        \n",
    "mike = Student(\"Mike\", 30)\n",
    "mike.show()\n",
    "\n",
    "mike.change_school_name(\"XYZ School\")\n",
    "mike.show()\n",
    "\n",
    "Student.change_school_name(mike,\"PQR School\")\n",
    "mike.show()"
   ]
  }
 ],
 "metadata": {
  "kernelspec": {
   "display_name": "Python 3",
   "language": "python",
   "name": "python3"
  },
  "language_info": {
   "codemirror_mode": {
    "name": "ipython",
    "version": 3
   },
   "file_extension": ".py",
   "mimetype": "text/x-python",
   "name": "python",
   "nbconvert_exporter": "python",
   "pygments_lexer": "ipython3",
   "version": "3.12.2"
  }
 },
 "nbformat": 4,
 "nbformat_minor": 2
}
